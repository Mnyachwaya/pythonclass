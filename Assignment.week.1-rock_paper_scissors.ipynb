{
 "cells": [
  {
   "cell_type": "code",
   "execution_count": 1,
   "metadata": {},
   "outputs": [
    {
     "name": "stdout",
     "output_type": "stream",
     "text": [
      "Your choice: Rock\n",
      "Computer choice: Paper\n",
      "Comp wins this round\n"
     ]
    }
   ],
   "source": [
    "import random\n",
    "Game = [\"Rock\", \"Paper\", \"Scissors\"]\n",
    "\n",
    "# Play round 1: \n",
    "player1choice = input (\"Choose one option (Rock, paper, Scissor): \")\n",
    "compchoice = [\"Rock\", \"Paper\", \"Scissors\"]\n",
    "\n",
    "print (\"Your choice:\", player1choice)\n",
    "print (\"Computer choice:\", random.choice(Game))\n",
    "\n",
    "\n",
    "#Output\n",
    "if player1choice == compchoice :\n",
    "    print (\"Draw! - Both players picked the same option\")\n",
    "\n",
    "elif player1choice == \"Rock\":\n",
    "        if compchoice == \"Scissors\":\n",
    "             print (\"Player 1 wins\")\n",
    "        else: \n",
    "             print (\"Comp wins this round\")  \n",
    "\n",
    "\n",
    "elif player1choice == \"Scissors\":\n",
    "        if compchoice == \"Paper\":\n",
    "             print (\"Player 1 wins\")\n",
    "        else: \n",
    "             print (\"Comp wins this round\")  \n",
    "\n",
    "\n",
    "elif player1choice == \"Paper\":\n",
    "        if compchoice == \"Rock\":\n",
    "             print (\"Player 1 wins\")\n",
    "        else: \n",
    "             print (\"Comp wins this round\")  \n"
   ]
  },
  {
   "cell_type": "code",
   "execution_count": null,
   "metadata": {},
   "outputs": [],
   "source": []
  }
 ],
 "metadata": {
  "kernelspec": {
   "display_name": "Python 3",
   "language": "python",
   "name": "python3"
  },
  "language_info": {
   "codemirror_mode": {
    "name": "ipython",
    "version": 3
   },
   "file_extension": ".py",
   "mimetype": "text/x-python",
   "name": "python",
   "nbconvert_exporter": "python",
   "pygments_lexer": "ipython3",
   "version": "3.11.4"
  },
  "orig_nbformat": 4
 },
 "nbformat": 4,
 "nbformat_minor": 2
}
